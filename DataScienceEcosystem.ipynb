{
 "cells": [
  {
   "cell_type": "markdown",
   "id": "9be28c64-4ad4-49b8-87f0-fc16030c0d6c",
   "metadata": {},
   "source": [
    "Exercise 2: Create markdown cell with title of notebook\n",
    "\n",
    "# Data Science Tools and Ecosystem"
   ]
  },
  {
   "cell_type": "markdown",
   "id": "6f59bd90-21e0-4450-ba02-d0d22e8d5f1c",
   "metadata": {},
   "source": [
    "Exercise 3: Create a markdown cell for an introduction\n",
    "\n",
    "In this notebook, Data Science Tools and Ecosystem are summarized."
   ]
  },
  {
   "cell_type": "markdown",
   "id": "bae7d3cb-fe9c-422e-9b84-3b24791add51",
   "metadata": {},
   "source": [
    "Exercise 10: Insert a markdown cell to list Objectives\n",
    "\n",
    "**Objectives:**\n",
    "- List popular languages for data science\n",
    "- List commonly used Libraries by Data Scientists\n",
    "- List data science tools\n"
   ]
  },
  {
   "cell_type": "markdown",
   "id": "72f27a68-981a-4bdb-a402-756515a279d2",
   "metadata": {},
   "source": [
    "Exercise 4: Create a markdown cell to list data science language\n",
    "\n",
    "Some of the popular languages that Data Scientists use are:\n",
    "1. Python\n",
    "2. R\n",
    "3. SQL"
   ]
  },
  {
   "cell_type": "markdown",
   "id": "effc2474-8ab0-455d-a254-2d0cc00a080f",
   "metadata": {},
   "source": [
    "Exercise 5: Create a markdown cell to list data science libraries\n",
    "\n",
    "Some of the commonly used Libraries used by Data Scientists include:\n",
    "1. Pandas\n",
    "2. NumPy\n",
    "3. matplotlib"
   ]
  },
  {
   "cell_type": "markdown",
   "id": "038798cf-b69b-4536-a02f-8b4257ea6b68",
   "metadata": {},
   "source": [
    "Exercise 6: Create a markdown cell with a table of Data Science tools\n",
    "\n",
    "| Data Science Tools |\n",
    "| ------------------ |\n",
    "| Anaconda |\n",
    "| Jupyter Notebooks |\n",
    "| VS Code |"
   ]
  },
  {
   "cell_type": "markdown",
   "id": "f89c68d4-9b95-4465-86d1-1332759c3e3a",
   "metadata": {},
   "source": [
    "Exercise 7: Create a markdown cell introducing arithmetic expression examples\n",
    "\n",
    "### Below are a few examples of evaluating arithmetic expressions in Python"
   ]
  },
  {
   "cell_type": "code",
   "execution_count": 1,
   "id": "c0ca7bf1-05ae-4d6c-b4a5-357c15ac28dc",
   "metadata": {},
   "outputs": [
    {
     "data": {
      "text/plain": [
       "17"
      ]
     },
     "execution_count": 1,
     "metadata": {},
     "output_type": "execute_result"
    }
   ],
   "source": [
    "# Exercise 8: Create a code cell to multiply and add numbers\n",
    "(3*4)+5"
   ]
  },
  {
   "cell_type": "code",
   "execution_count": 3,
   "id": "bd0bdba1-bf85-4e4e-b055-d2fddaa4c086",
   "metadata": {},
   "outputs": [
    {
     "data": {
      "text/plain": [
       "3.3333333333333335"
      ]
     },
     "execution_count": 3,
     "metadata": {},
     "output_type": "execute_result"
    }
   ],
   "source": [
    "# Exercise 9: This will convert 200 minutes to hours by dividing by 60\n",
    "200/60"
   ]
  },
  {
   "cell_type": "markdown",
   "id": "b9d98cf8-e334-42bb-92df-5c29d722f780",
   "metadata": {},
   "source": [
    "Exercise 11: Create a markdown to indicate the Author's name\n",
    "\n",
    "## Author\n",
    "Chris DeYoung\n"
   ]
  }
 ],
 "metadata": {
  "kernelspec": {
   "display_name": "Python 3 (ipykernel)",
   "language": "python",
   "name": "python3"
  },
  "language_info": {
   "codemirror_mode": {
    "name": "ipython",
    "version": 3
   },
   "file_extension": ".py",
   "mimetype": "text/x-python",
   "name": "python",
   "nbconvert_exporter": "python",
   "pygments_lexer": "ipython3",
   "version": "3.11.8"
  }
 },
 "nbformat": 4,
 "nbformat_minor": 5
}
